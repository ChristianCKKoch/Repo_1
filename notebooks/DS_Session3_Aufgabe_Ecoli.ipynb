{
 "cells": [
  {
   "cell_type": "markdown",
   "metadata": {},
   "source": [
    "Daten importieren aus Excel\n",
    "------"
   ]
  },
  {
   "cell_type": "code",
   "execution_count": 5,
   "metadata": {},
   "outputs": [],
   "source": [
    "import pandas as pd\n",
    "\n",
    "data_input = pd.read_excel('../data/raw/U bung kNN Klassifizierung Ecoli.xlsx', sheet_name=0)\n",
    "data_output = pd.read_excel('../data/raw/U bung kNN Klassifizierung Ecoli.xlsx', sheet_name=1)"
   ]
  },
  {
   "cell_type": "code",
   "execution_count": 6,
   "metadata": {},
   "outputs": [
    {
     "output_type": "execute_result",
     "data": {
      "text/plain": [
       "    mcg   gvh   lip  chg   aac  alm1  alm2\n",
       "0  0.79  0.36  0.48  0.5  0.46  0.82  0.70\n",
       "1  0.36  0.54  0.48  0.5  0.41  0.38  0.46\n",
       "2  0.60  0.61  0.48  0.5  0.54  0.67  0.71\n",
       "3  0.71  0.71  0.48  0.5  0.68  0.43  0.36"
      ],
      "text/html": "<div>\n<style scoped>\n    .dataframe tbody tr th:only-of-type {\n        vertical-align: middle;\n    }\n\n    .dataframe tbody tr th {\n        vertical-align: top;\n    }\n\n    .dataframe thead th {\n        text-align: right;\n    }\n</style>\n<table border=\"1\" class=\"dataframe\">\n  <thead>\n    <tr style=\"text-align: right;\">\n      <th></th>\n      <th>mcg</th>\n      <th>gvh</th>\n      <th>lip</th>\n      <th>chg</th>\n      <th>aac</th>\n      <th>alm1</th>\n      <th>alm2</th>\n    </tr>\n  </thead>\n  <tbody>\n    <tr>\n      <th>0</th>\n      <td>0.79</td>\n      <td>0.36</td>\n      <td>0.48</td>\n      <td>0.5</td>\n      <td>0.46</td>\n      <td>0.82</td>\n      <td>0.70</td>\n    </tr>\n    <tr>\n      <th>1</th>\n      <td>0.36</td>\n      <td>0.54</td>\n      <td>0.48</td>\n      <td>0.5</td>\n      <td>0.41</td>\n      <td>0.38</td>\n      <td>0.46</td>\n    </tr>\n    <tr>\n      <th>2</th>\n      <td>0.60</td>\n      <td>0.61</td>\n      <td>0.48</td>\n      <td>0.5</td>\n      <td>0.54</td>\n      <td>0.67</td>\n      <td>0.71</td>\n    </tr>\n    <tr>\n      <th>3</th>\n      <td>0.71</td>\n      <td>0.71</td>\n      <td>0.48</td>\n      <td>0.5</td>\n      <td>0.68</td>\n      <td>0.43</td>\n      <td>0.36</td>\n    </tr>\n  </tbody>\n</table>\n</div>"
     },
     "metadata": {},
     "execution_count": 6
    }
   ],
   "source": [
    "data_output"
   ]
  },
  {
   "cell_type": "markdown",
   "metadata": {},
   "source": [
    "Train und Test Datensätze erstellen, normalisieren und kNN-Classifier trainieren\n",
    "---------"
   ]
  },
  {
   "cell_type": "code",
   "execution_count": 3,
   "metadata": {},
   "outputs": [],
   "source": [
    "X = data_input.loc[:,data_input.columns != \"Target\"]\n",
    "y = data_input[\"Target\"]\n",
    "\n",
    "from sklearn.model_selection import train_test_split\n",
    "X_train, X_test, y_train, y_test = train_test_split(X, y, test_size=0.20) #, random_state=0)"
   ]
  },
  {
   "cell_type": "code",
   "execution_count": 4,
   "metadata": {},
   "outputs": [
    {
     "output_type": "execute_result",
     "data": {
      "text/plain": [
       "      mcg   gvh   lip  chg   aac  alm1  alm2 Target\n",
       "0    0.44  0.52  0.48  0.5  0.43  0.47  0.54     im\n",
       "1    0.49  0.29  0.48  0.5  0.56  0.24  0.35     cp\n",
       "2    0.07  0.40  0.48  0.5  0.54  0.35  0.44     cp\n",
       "3    0.56  0.40  0.48  0.5  0.49  0.37  0.46     cp\n",
       "4    0.59  0.49  0.48  0.5  0.52  0.45  0.36     cp\n",
       "..    ...   ...   ...  ...   ...   ...   ...    ...\n",
       "328  0.69  0.39  0.48  0.5  0.57  0.76  0.79     im\n",
       "329  0.59  0.61  0.48  0.5  0.42  0.42  0.37     pp\n",
       "330  0.52  0.54  0.48  0.5  0.62  0.76  0.79     im\n",
       "331  0.74  0.74  0.48  0.5  0.31  0.53  0.52     pp\n",
       "332  0.74  0.74  0.48  0.5  0.31  0.53  0.52     pp\n",
       "\n",
       "[333 rows x 8 columns]"
      ],
      "text/html": "<div>\n<style scoped>\n    .dataframe tbody tr th:only-of-type {\n        vertical-align: middle;\n    }\n\n    .dataframe tbody tr th {\n        vertical-align: top;\n    }\n\n    .dataframe thead th {\n        text-align: right;\n    }\n</style>\n<table border=\"1\" class=\"dataframe\">\n  <thead>\n    <tr style=\"text-align: right;\">\n      <th></th>\n      <th>mcg</th>\n      <th>gvh</th>\n      <th>lip</th>\n      <th>chg</th>\n      <th>aac</th>\n      <th>alm1</th>\n      <th>alm2</th>\n      <th>Target</th>\n    </tr>\n  </thead>\n  <tbody>\n    <tr>\n      <th>0</th>\n      <td>0.44</td>\n      <td>0.52</td>\n      <td>0.48</td>\n      <td>0.5</td>\n      <td>0.43</td>\n      <td>0.47</td>\n      <td>0.54</td>\n      <td>im</td>\n    </tr>\n    <tr>\n      <th>1</th>\n      <td>0.49</td>\n      <td>0.29</td>\n      <td>0.48</td>\n      <td>0.5</td>\n      <td>0.56</td>\n      <td>0.24</td>\n      <td>0.35</td>\n      <td>cp</td>\n    </tr>\n    <tr>\n      <th>2</th>\n      <td>0.07</td>\n      <td>0.40</td>\n      <td>0.48</td>\n      <td>0.5</td>\n      <td>0.54</td>\n      <td>0.35</td>\n      <td>0.44</td>\n      <td>cp</td>\n    </tr>\n    <tr>\n      <th>3</th>\n      <td>0.56</td>\n      <td>0.40</td>\n      <td>0.48</td>\n      <td>0.5</td>\n      <td>0.49</td>\n      <td>0.37</td>\n      <td>0.46</td>\n      <td>cp</td>\n    </tr>\n    <tr>\n      <th>4</th>\n      <td>0.59</td>\n      <td>0.49</td>\n      <td>0.48</td>\n      <td>0.5</td>\n      <td>0.52</td>\n      <td>0.45</td>\n      <td>0.36</td>\n      <td>cp</td>\n    </tr>\n    <tr>\n      <th>...</th>\n      <td>...</td>\n      <td>...</td>\n      <td>...</td>\n      <td>...</td>\n      <td>...</td>\n      <td>...</td>\n      <td>...</td>\n      <td>...</td>\n    </tr>\n    <tr>\n      <th>328</th>\n      <td>0.69</td>\n      <td>0.39</td>\n      <td>0.48</td>\n      <td>0.5</td>\n      <td>0.57</td>\n      <td>0.76</td>\n      <td>0.79</td>\n      <td>im</td>\n    </tr>\n    <tr>\n      <th>329</th>\n      <td>0.59</td>\n      <td>0.61</td>\n      <td>0.48</td>\n      <td>0.5</td>\n      <td>0.42</td>\n      <td>0.42</td>\n      <td>0.37</td>\n      <td>pp</td>\n    </tr>\n    <tr>\n      <th>330</th>\n      <td>0.52</td>\n      <td>0.54</td>\n      <td>0.48</td>\n      <td>0.5</td>\n      <td>0.62</td>\n      <td>0.76</td>\n      <td>0.79</td>\n      <td>im</td>\n    </tr>\n    <tr>\n      <th>331</th>\n      <td>0.74</td>\n      <td>0.74</td>\n      <td>0.48</td>\n      <td>0.5</td>\n      <td>0.31</td>\n      <td>0.53</td>\n      <td>0.52</td>\n      <td>pp</td>\n    </tr>\n    <tr>\n      <th>332</th>\n      <td>0.74</td>\n      <td>0.74</td>\n      <td>0.48</td>\n      <td>0.5</td>\n      <td>0.31</td>\n      <td>0.53</td>\n      <td>0.52</td>\n      <td>pp</td>\n    </tr>\n  </tbody>\n</table>\n<p>333 rows × 8 columns</p>\n</div>"
     },
     "metadata": {},
     "execution_count": 4
    }
   ],
   "source": [
    "data_input"
   ]
  },
  {
   "cell_type": "code",
   "execution_count": 33,
   "metadata": {},
   "outputs": [],
   "source": [
    "#Normalisieren der Daten\n",
    "from sklearn.preprocessing import MinMaxScaler\n",
    "scaler = MinMaxScaler()\n",
    "scaler.fit(X_train)\n",
    "\n",
    "X_train_norm = scaler.transform(X_train)\n",
    "X_test_norm = scaler.transform(X_test)"
   ]
  },
  {
   "cell_type": "code",
   "execution_count": 34,
   "metadata": {},
   "outputs": [
    {
     "output_type": "execute_result",
     "data": {
      "text/plain": [
       "KNeighborsClassifier(n_neighbors=7)"
      ]
     },
     "metadata": {},
     "execution_count": 34
    }
   ],
   "source": [
    "from sklearn.neighbors import KNeighborsClassifier\n",
    "knnclf = KNeighborsClassifier(n_neighbors=7)\n",
    "knnclf.fit(X_train_norm, y_train)"
   ]
  },
  {
   "cell_type": "markdown",
   "metadata": {},
   "source": [
    "Test Datensätze erstellen und kNN-Classifier verwenden\n",
    "---------"
   ]
  },
  {
   "cell_type": "code",
   "execution_count": 35,
   "metadata": {},
   "outputs": [],
   "source": [
    "X_output = data_output"
   ]
  },
  {
   "cell_type": "code",
   "execution_count": 36,
   "metadata": {},
   "outputs": [],
   "source": [
    "y_pred = knnclf.predict(X_output)"
   ]
  },
  {
   "cell_type": "code",
   "execution_count": 37,
   "metadata": {},
   "outputs": [],
   "source": [
    "#Normalisieren der Daten\n",
    "X_output_norm = scaler.transform(X_output)\n",
    "y_pred_norm = knnclf.predict(X_output_norm)"
   ]
  },
  {
   "cell_type": "code",
   "execution_count": 38,
   "metadata": {},
   "outputs": [
    {
     "output_type": "stream",
     "name": "stdout",
     "text": [
      "    mcg   gvh   lip  chg   aac  alm1  alm2\n0  0.79  0.36  0.48  0.5  0.46  0.82  0.70\n1  0.36  0.54  0.48  0.5  0.41  0.38  0.46\n2  0.60  0.61  0.48  0.5  0.54  0.67  0.71\n3  0.71  0.71  0.48  0.5  0.68  0.43  0.36\n['imU' 'cp' 'im' 'pp']\n[[0.88764045 0.15789474 0.         0.         0.53488372 0.86813187\n  0.74468085]\n [0.40449438 0.39473684 0.         0.         0.47674419 0.38461538\n  0.4893617 ]\n [0.6741573  0.48684211 0.         0.         0.62790698 0.7032967\n  0.75531915]\n [0.79775281 0.61842105 0.         0.         0.79069767 0.43956044\n  0.38297872]]\n['imU' 'cp' 'im' 'om']\n"
     ]
    }
   ],
   "source": [
    "print(X_output)\n",
    "print(y_pred)\n",
    "print(X_output_norm)\n",
    "print(y_pred_norm)"
   ]
  },
  {
   "cell_type": "markdown",
   "metadata": {},
   "source": [
    "Akkuranz bestimmen\n",
    "----------------"
   ]
  },
  {
   "cell_type": "code",
   "execution_count": 39,
   "metadata": {},
   "outputs": [
    {
     "output_type": "stream",
     "name": "stdout",
     "text": [
      "knn-Classifier scores with 85.07462686567165% accuracy\n"
     ]
    }
   ],
   "source": [
    "score = knnclf.score(X_test,y_test)\n",
    "print('knn-Classifier scores with {}% accuracy'.format(score*100))"
   ]
  },
  {
   "cell_type": "markdown",
   "metadata": {},
   "source": [
    "Optimalen k-wert bestimmen\n",
    "---------------"
   ]
  },
  {
   "cell_type": "markdown",
   "metadata": {},
   "source": [
    "y_pred = knnclf.predict(X_test)\n",
    "\n",
    "from sklearn.metrics import classification_report, confusion_matrix\n",
    "print(confusion_matrix(y_test, y_pred))\n",
    "print(classification_report(y_test, y_pred))"
   ]
  },
  {
   "cell_type": "code",
   "execution_count": 17,
   "metadata": {},
   "outputs": [],
   "source": [
    "import matplotlib.pyplot as plt\n",
    "import numpy as np\n",
    "error = []\n",
    "\n",
    "# Calculating error for K values between 1 and 40\n",
    "for i in range(1, 40):\n",
    "    knn = KNeighborsClassifier(n_neighbors=i)\n",
    "    knn.fit(X_train_norm, y_train)\n",
    "    pred_i = knn.predict(X_test_norm)\n",
    "    error.append(np.mean(pred_i != y_test))"
   ]
  },
  {
   "cell_type": "code",
   "execution_count": 276,
   "metadata": {},
   "outputs": [
    {
     "data": {
      "text/plain": [
       "Text(0, 0.5, 'Mean Error')"
      ]
     },
     "execution_count": 276,
     "metadata": {},
     "output_type": "execute_result"
    },
    {
     "data": {
      "image/png": "[encoded data removed]",
      "text/plain": [
       "<Figure size 864x432 with 1 Axes>"
      ]
     },
     "metadata": {
      "needs_background": "light"
     },
     "output_type": "display_data"
    }
   ],
   "source": [
    "plt.figure(figsize=(12, 6))\n",
    "plt.plot(range(1, 40), error, color='red', linestyle='dashed', marker='o',\n",
    "         markerfacecolor='blue', markersize=10)\n",
    "plt.title('Error Rate K Value')\n",
    "plt.xlabel('K Value')\n",
    "plt.ylabel('Mean Error')"
   ]
  },
  {
   "cell_type": "markdown",
   "metadata": {},
   "source": [
    "Decision Tree\n",
    "----------"
   ]
  },
  {
   "cell_type": "code",
   "execution_count": 265,
   "metadata": {},
   "outputs": [
    {
     "name": "stdout",
     "output_type": "stream",
     "text": [
      "Decision Tree scores with 71.64179104477611% accuracy\n"
     ]
    }
   ],
   "source": [
    "from sklearn.tree import DecisionTreeClassifier\n",
    "\n",
    "dt = DecisionTreeClassifier(max_depth=3, criterion=\"entropy\", min_samples_split=2)\n",
    "dt.fit(X_train,y_train)\n",
    "from sklearn.tree import DecisionTreeClassifier\n",
    "\n",
    "score = dt.score(X_test,y_test)\n",
    "print('Decision Tree scores with {}% accuracy'.format(score*100))"
   ]
  },
  {
   "cell_type": "code",
   "execution_count": 251,
   "metadata": {},
   "outputs": [
    {
     "name": "stderr",
     "output_type": "stream",
     "text": [
      "C:\\Users\\Chris\\anaconda3\\lib\\site-packages\\sklearn\\model_selection\\_split.py:670: UserWarning: The least populated class in y has only 1 members, which is less than n_splits=5.\n",
      "  warnings.warn((\"The least populated class in y has only %d\"\n"
     ]
    },
    {
     "name": "stdout",
     "output_type": "stream",
     "text": [
      "{'criterion': 'entropy', 'max_depth': 3, 'min_samples_split': 2}\n"
     ]
    }
   ],
   "source": [
    "from sklearn.model_selection import GridSearchCV\n",
    "\n",
    "#tree parameters which shall be tested\n",
    "tree_para = {'criterion':['gini','entropy'],'max_depth':[i for i in range(1,20)], 'min_samples_split':[i for i in range (2,20)]}\n",
    "\n",
    "#GridSearchCV object\n",
    "grd_clf = GridSearchCV(dt, tree_para, cv=5)\n",
    "\n",
    "#creates differnt trees with all the differnet parameters out of our data\n",
    "grd_clf.fit(X_train, y_train)\n",
    "\n",
    "#best paramters that were found\n",
    "best_parameters = grd_clf.best_params_  \n",
    "print(best_parameters) "
   ]
  },
  {
   "cell_type": "code",
   "execution_count": null,
   "metadata": {},
   "outputs": [],
   "source": []
  }
 ],
 "metadata": {
  "kernelspec": {
   "name": "python385jvsc74a57bd0e660af3098993ea5160fd9270f74e6db286e749e474b6bbf115c5a1892218496",
   "display_name": "Python 3.8.5 64-bit ('base': conda)"
  },
  "language_info": {
   "codemirror_mode": {
    "name": "ipython",
    "version": 3
   },
   "file_extension": ".py",
   "mimetype": "text/x-python",
   "name": "python",
   "nbconvert_exporter": "python",
   "pygments_lexer": "ipython3",
   "version": "3.8.5"
  }
 },
 "nbformat": 4,
 "nbformat_minor": 4
}